{
 "cells": [
  {
   "cell_type": "code",
   "execution_count": 1,
   "id": "14e88271",
   "metadata": {},
   "outputs": [
    {
     "name": "stdout",
     "output_type": "stream",
     "text": [
      "Requirement already satisfied: dash in c:\\users\\lenovo\\anaconda3\\lib\\site-packages (2.14.2)\n",
      "Requirement already satisfied: Werkzeug<3.1 in c:\\users\\lenovo\\anaconda3\\lib\\site-packages (from dash) (2.2.2)\n",
      "Requirement already satisfied: Flask<3.1,>=1.0.4 in c:\\users\\lenovo\\anaconda3\\lib\\site-packages (from dash) (2.2.2)\n",
      "Requirement already satisfied: nest-asyncio in c:\\users\\lenovo\\anaconda3\\lib\\site-packages (from dash) (1.5.6)\n",
      "Requirement already satisfied: importlib-metadata in c:\\users\\lenovo\\anaconda3\\lib\\site-packages (from dash) (4.11.3)\n",
      "Requirement already satisfied: requests in c:\\users\\lenovo\\anaconda3\\lib\\site-packages (from dash) (2.28.1)\n",
      "Requirement already satisfied: dash-html-components==2.0.0 in c:\\users\\lenovo\\anaconda3\\lib\\site-packages (from dash) (2.0.0)\n",
      "Requirement already satisfied: dash-core-components==2.0.0 in c:\\users\\lenovo\\anaconda3\\lib\\site-packages (from dash) (2.0.0)\n",
      "Requirement already satisfied: plotly>=5.0.0 in c:\\users\\lenovo\\anaconda3\\lib\\site-packages (from dash) (5.9.0)\n",
      "Requirement already satisfied: setuptools in c:\\users\\lenovo\\anaconda3\\lib\\site-packages (from dash) (65.6.3)\n",
      "Requirement already satisfied: typing-extensions>=4.1.1 in c:\\users\\lenovo\\anaconda3\\lib\\site-packages (from dash) (4.4.0)\n",
      "Requirement already satisfied: retrying in c:\\users\\lenovo\\anaconda3\\lib\\site-packages (from dash) (1.3.4)\n",
      "Requirement already satisfied: ansi2html in c:\\users\\lenovo\\anaconda3\\lib\\site-packages (from dash) (1.8.0)\n",
      "Requirement already satisfied: dash-table==5.0.0 in c:\\users\\lenovo\\anaconda3\\lib\\site-packages (from dash) (5.0.0)\n",
      "Requirement already satisfied: itsdangerous>=2.0 in c:\\users\\lenovo\\anaconda3\\lib\\site-packages (from Flask<3.1,>=1.0.4->dash) (2.0.1)\n",
      "Requirement already satisfied: click>=8.0 in c:\\users\\lenovo\\anaconda3\\lib\\site-packages (from Flask<3.1,>=1.0.4->dash) (8.0.4)\n",
      "Requirement already satisfied: Jinja2>=3.0 in c:\\users\\lenovo\\anaconda3\\lib\\site-packages (from Flask<3.1,>=1.0.4->dash) (3.1.2)\n",
      "Requirement already satisfied: tenacity>=6.2.0 in c:\\users\\lenovo\\anaconda3\\lib\\site-packages (from plotly>=5.0.0->dash) (8.0.1)\n",
      "Requirement already satisfied: MarkupSafe>=2.1.1 in c:\\users\\lenovo\\anaconda3\\lib\\site-packages (from Werkzeug<3.1->dash) (2.1.1)\n",
      "Requirement already satisfied: zipp>=0.5 in c:\\users\\lenovo\\anaconda3\\lib\\site-packages (from importlib-metadata->dash) (3.11.0)\n",
      "Requirement already satisfied: charset-normalizer<3,>=2 in c:\\users\\lenovo\\anaconda3\\lib\\site-packages (from requests->dash) (2.0.4)\n",
      "Requirement already satisfied: idna<4,>=2.5 in c:\\users\\lenovo\\anaconda3\\lib\\site-packages (from requests->dash) (3.4)\n",
      "Requirement already satisfied: certifi>=2017.4.17 in c:\\users\\lenovo\\anaconda3\\lib\\site-packages (from requests->dash) (2022.12.7)\n",
      "Requirement already satisfied: urllib3<1.27,>=1.21.1 in c:\\users\\lenovo\\anaconda3\\lib\\site-packages (from requests->dash) (1.26.14)\n",
      "Requirement already satisfied: six>=1.7.0 in c:\\users\\lenovo\\anaconda3\\lib\\site-packages (from retrying->dash) (1.16.0)\n",
      "Requirement already satisfied: colorama in c:\\users\\lenovo\\anaconda3\\lib\\site-packages (from click>=8.0->Flask<3.1,>=1.0.4->dash) (0.4.6)\n"
     ]
    }
   ],
   "source": [
    "!pip install dash"
   ]
  },
  {
   "cell_type": "code",
   "execution_count": 10,
   "id": "c430dfc4",
   "metadata": {},
   "outputs": [
    {
     "data": {
      "text/html": [
       "\n",
       "        <iframe\n",
       "            width=\"100%\"\n",
       "            height=\"650\"\n",
       "            src=\"http://127.0.0.1:8050/\"\n",
       "            frameborder=\"0\"\n",
       "            allowfullscreen\n",
       "            \n",
       "        ></iframe>\n",
       "        "
      ],
      "text/plain": [
       "<IPython.lib.display.IFrame at 0x1fd10866920>"
      ]
     },
     "metadata": {},
     "output_type": "display_data"
    }
   ],
   "source": [
    "#masukkan library yang dibutuhkan\n",
    "import dash\n",
    "from dash import dcc, html\n",
    "from dash.dependencies import Input, Output\n",
    "import pandas as pd\n",
    "from sklearn.datasets import load_iris\n",
    "\n",
    "#memuat dataset iris dari scikit-learn kemudian diubah ke dataframe dan mengkasih nama spesies warna\n",
    "data_iris = load_iris()\n",
    "dataframe_iris = pd.DataFrame(data = data_iris.data, columns = data_iris.feature_names)\n",
    "dataframe_iris[\"Species\"] = data_iris.target_names[data_iris.target]\n",
    "warna_spesies = {\"setosa\" : \"purple\", \"versicolor\": \"yellow\", \"virginica\": \"cyan\"}\n",
    "\n",
    "#inisialisasi apk dash\n",
    "aplikasi = dash.Dash(__name__)\n",
    "\n",
    "#membuat layout untuk ditampilan dashboardnya dan memilih filter x dan y kemudian jumlah kelas spesies\n",
    "aplikasi.layout = html.Div([\n",
    "    html.H1(\"Dashboard Dari Iris Datasetnya\"),\n",
    "    \n",
    "    html.Div([\n",
    "        html.Label(\"Variabel X\"),\n",
    "        dcc.Dropdown(\n",
    "            id = \"x feature dropdown\",\n",
    "            options = [{\"label\": feature, \"value\": feature} for feature in dataframe_iris.columns[:-1]],\n",
    "            value = dataframe_iris.columns[0], \n",
    "            multi = False,\n",
    "            style = {\"width\": \"50%\"}  \n",
    "        ),\n",
    "    ]),\n",
    "    \n",
    "    html.Div([\n",
    "        html.Label(\"Variabel Y\"),  \n",
    "        dcc.Dropdown(\n",
    "            id = \"y feature dropdown\",\n",
    "            options = [{\"label\": feature, \"value\": feature} for feature in dataframe_iris.columns[:-1]],\n",
    "            value = dataframe_iris.columns[1], \n",
    "            multi = False,\n",
    "            style = {\"width\": \"50%\"}  \n",
    "        ),\n",
    "    ]),\n",
    "    \n",
    "    dcc.Dropdown(\n",
    "        id = \"species dropdown\",\n",
    "        options = [{\"label\": feature, \"value\": feature} for feature in dataframe_iris[\"Species\"].unique()],\n",
    "        value = [dataframe_iris[\"Species\"].unique()[0]], \n",
    "        multi = True,\n",
    "        style = {\"width\": \"50%\"}  \n",
    "    ),\n",
    "   \n",
    "#plot dari dropdown\n",
    "    dcc.Graph(id = \"feature plot\")\n",
    "])\n",
    "  \n",
    "#manggil kembali untuk memperbarui label variabelnya\n",
    "@aplikasi.callback(\n",
    "    Output(\"feature plot\", \"figure\"),\n",
    "    [Input(\"x feature dropdown\", \"value\"),\n",
    "     Input(\"y feature dropdown\", \"value\"),\n",
    "     Input(\"species dropdown\", \"value\")]\n",
    ")\n",
    "\n",
    "def update_plot(fitur_x, fitur_y, pilih_spesies):\n",
    "    # Membuat plot berdasarkan fitur X, Y, dan spesies yang dipilih\n",
    "    plot_data = [\n",
    "        {\n",
    "            \"x\": dataframe_iris[(dataframe_iris[\"Species\"] == species) & (dataframe_iris[\"Species\"].isin(pilih_spesies))][fitur_x],\n",
    "            'y': dataframe_iris[(dataframe_iris[\"Species\"] == species) & (dataframe_iris[\"Species\"].isin(pilih_spesies))][fitur_y],\n",
    "            \"type\": \"scatter\",\n",
    "            \"mode\": \"markers\",\n",
    "            \"marker\": {\"color\": warna_spesies[species]},\n",
    "            \"name\": species\n",
    "            } for species in pilih_spesies\n",
    "        ] \n",
    "    fig = {\n",
    "        \"data\" : plot_data,\n",
    "        \"layout\": {\n",
    "            \"title\": f\"Perbandingan dari {fitur_x} dan {fitur_y} untuk spesies dari dataset iris {','.join(pilih_spesies)}\",\n",
    "            \"x axis\": {'title': fitur_x},\n",
    "            \"y axis\": {'title': fitur_y}\n",
    "        }\n",
    "    }\n",
    "    return fig\n",
    "\n",
    "# Menjalankan aplikasi Dashboardnya\n",
    "if __name__ == \"__main__\":\n",
    "    aplikasi.run_server(debug=True)"
   ]
  },
  {
   "cell_type": "code",
   "execution_count": null,
   "id": "41dbe36d",
   "metadata": {},
   "outputs": [],
   "source": []
  }
 ],
 "metadata": {
  "kernelspec": {
   "display_name": "Python 3 (ipykernel)",
   "language": "python",
   "name": "python3"
  },
  "language_info": {
   "codemirror_mode": {
    "name": "ipython",
    "version": 3
   },
   "file_extension": ".py",
   "mimetype": "text/x-python",
   "name": "python",
   "nbconvert_exporter": "python",
   "pygments_lexer": "ipython3",
   "version": "3.10.9"
  }
 },
 "nbformat": 4,
 "nbformat_minor": 5
}
